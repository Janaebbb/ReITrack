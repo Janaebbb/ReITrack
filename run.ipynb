{
 "cells": [
  {
   "cell_type": "markdown",
   "source": [
    "## Environment"
   ],
   "metadata": {
    "collapsed": false
   },
   "id": "decbf155cb58ea51"
  },
  {
   "cell_type": "code",
   "outputs": [],
   "source": [
    "!python setup.py development"
   ],
   "metadata": {
    "collapsed": false
   },
   "id": "70b113a6626ae6ee"
  },
  {
   "cell_type": "markdown",
   "source": [
    "下载[MOT17](https://motchallenge.net/data/MOT17/), [MOT20](https://motchallenge.net/data/MOT20/), and [DanceTrack](https://github.com/DanceTrack/DanceTrack)数据集\n",
    " ```\n",
    " datasets\n",
    " |——————mot\n",
    " |        └——————train\n",
    " |        └——————test\n",
    " └——————MOT20\n",
    " |        └——————train\n",
    " |        └——————test\n",
    " └——————dancetrack        \n",
    "          └——————train\n",
    "          └——————val\n",
    "          └——————test\n",
    " ```"
   ],
   "metadata": {
    "collapsed": false
   },
   "id": "3370afec5a030e6d"
  },
  {
   "cell_type": "code",
   "outputs": [],
   "source": [
    "# 运行以下代码转换数据集格式\n",
    "!python tools/data/convert_dance_to_coco.py\n",
    "!python tools/data/convert_mot17_to_coco.py\n",
    "!python tools/data/convert_mot20_to_coco.py"
   ],
   "metadata": {
    "collapsed": false
   },
   "id": "78ccba728f243e46"
  },
  {
   "cell_type": "markdown",
   "source": [
    "## Evaluate"
   ],
   "metadata": {
    "collapsed": false
   },
   "id": "f0c3e9a60bce902"
  },
  {
   "cell_type": "code",
   "execution_count": null,
   "id": "initial_id",
   "metadata": {
    "collapsed": true
   },
   "outputs": [],
   "source": [
    "!python main.py --exp_name MOT17-val --tracker ReITrack --grid_off --new_kf_off --dataset mot17 --w_assoc_emb 0.75 --aw_param 0.5 --OSFormer --OAW --motion_epoch mot17 --motion_cfg ./weights/OneStepFormer/MOT17/MOT17half_v1_mse_seqL60_lr0.001_step.yml\n",
    "!python main.py --exp_name MOT20-val --grid_off --new_kf_off --dataset mot20 --track_thresh 0.4 --w_assoc_emb 0.75 --aw_param 0.5 --tracker ReITrack --OSFormer --OAW --motion_cfg ./weights/OneStepFormer/MOT20/MOT20_v1_mse_lr0.001_step/MOT20_v1_mse_lr0.001_step.yml\n",
    "!python main.py --exp_name DANCE-val --grid_off --new_kf_off --dataset dance --aspect_ratio_thresh 1000 --w_assoc_emb 1.25 --aw_param 1 --tracker ReITrack --OSFormer --OAW --motion_epoch dance --motion_cfg ./weights/OneStepFormer/DANCE/DANCE_v1_mse_lr0.001_step/DANCE_v1_mse_lr0.001_step.yml"
   ]
  },
  {
   "cell_type": "markdown",
   "source": [
    "## Test"
   ],
   "metadata": {
    "collapsed": false
   },
   "id": "1b99b6f0b8bf9134"
  },
  {
   "cell_type": "code",
   "outputs": [],
   "source": [
    "!python main.py --exp_name MOT17-test --dataset mot17 --test_dataset --w_assoc_emb 0.75 --aw_param 0.5 --grid_off --new_kf_off --tracker ReITrack --post --OSFormer --OAW --motion_epoch mot17 --motion_cfg ./weights/OneStepFormer/MOT17/MOT17half_v1_mse_seqL60_lr0.001_step.yml\n",
    "!python main.py --exp_name DANCE-test --grid_off --new_kf_off --dataset dance --aspect_ratio_thresh 1000 --w_assoc_emb 1.25 --aw_param 1 --test_dataset --tracker ReITrack --OSFormer --OAW --motion_epoch dance --motion_cfg ./weights/OneStepFormer/DANCE/DANCE_v1_mse_lr0.001_step/DANCE_v1_mse_lr0.001_step.yml\n",
    "!python main.py --exp_name MOT20-test --grid_off --new_kf_off --dataset mot20 --track_thresh 0.4 --w_assoc_emb 0.75 --aw_param 0.5 --test_dataset --post --tracker ReITrack --OSFormer --OAW --motion_epoch mot20 --motion_cfg ./weights/OneStepFormer/MOT20/MOT20_v1_mse_lr0.001_step/MOT20_v1_mse_lr0.001_step.yml"
   ],
   "metadata": {
    "collapsed": false
   },
   "id": "c41350a5c3e5ca3e"
  }
 ],
 "metadata": {
  "kernelspec": {
   "display_name": "Python 3",
   "language": "python",
   "name": "python3"
  },
  "language_info": {
   "codemirror_mode": {
    "name": "ipython",
    "version": 2
   },
   "file_extension": ".py",
   "mimetype": "text/x-python",
   "name": "python",
   "nbconvert_exporter": "python",
   "pygments_lexer": "ipython2",
   "version": "2.7.6"
  }
 },
 "nbformat": 4,
 "nbformat_minor": 5
}
